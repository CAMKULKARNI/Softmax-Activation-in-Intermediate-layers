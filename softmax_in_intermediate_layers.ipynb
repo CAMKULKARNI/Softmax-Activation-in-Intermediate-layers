{
 "cells": [
  {
   "cell_type": "code",
   "execution_count": 1,
   "metadata": {},
   "outputs": [],
   "source": [
    "import tensorflow as tf"
   ]
  },
  {
   "cell_type": "code",
   "execution_count": 2,
   "metadata": {},
   "outputs": [],
   "source": [
    "(x_train, y_train), (x_test, y_test) = tf.keras.datasets.cifar10.load_data()"
   ]
  },
  {
   "cell_type": "code",
   "execution_count": 3,
   "metadata": {},
   "outputs": [],
   "source": [
    "model = tf.keras.Sequential([\n",
    "    tf.keras.layers.Input(shape=(32, 32, 3)),\n",
    "    tf.keras.layers.Rescaling(1./255),\n",
    "    \n",
    "    tf.keras.layers.Conv2D(16, (3, 3), activation='relu'),\n",
    "    tf.keras.layers.BatchNormalization(),\n",
    "    tf.keras.layers.MaxPooling2D(2, 2),\n",
    "    tf.keras.layers.Dropout(0.25),\n",
    "    tf.keras.layers.Flatten(),\n",
    "    tf.keras.layers.Dense(256, activation='softmax'),\n",
    "    tf.keras.layers.Dense(64, activation='softmax'),\n",
    "    tf.keras.layers.Dense(10, activation='softmax')\n",
    "])"
   ]
  },
  {
   "cell_type": "code",
   "execution_count": 4,
   "metadata": {},
   "outputs": [
    {
     "name": "stdout",
     "output_type": "stream",
     "text": [
      "Model: \"sequential\"\n",
      "_________________________________________________________________\n",
      " Layer (type)                Output Shape              Param #   \n",
      "=================================================================\n",
      " rescaling (Rescaling)       (None, 32, 32, 3)         0         \n",
      "                                                                 \n",
      " conv2d (Conv2D)             (None, 30, 30, 16)        448       \n",
      "                                                                 \n",
      " batch_normalization (BatchN  (None, 30, 30, 16)       64        \n",
      " ormalization)                                                   \n",
      "                                                                 \n",
      " max_pooling2d (MaxPooling2D  (None, 15, 15, 16)       0         \n",
      " )                                                               \n",
      "                                                                 \n",
      " dropout (Dropout)           (None, 15, 15, 16)        0         \n",
      "                                                                 \n",
      " flatten (Flatten)           (None, 3600)              0         \n",
      "                                                                 \n",
      " dense (Dense)               (None, 256)               921856    \n",
      "                                                                 \n",
      " dense_1 (Dense)             (None, 64)                16448     \n",
      "                                                                 \n",
      " dense_2 (Dense)             (None, 10)                650       \n",
      "                                                                 \n",
      "=================================================================\n",
      "Total params: 939,466\n",
      "Trainable params: 939,434\n",
      "Non-trainable params: 32\n",
      "_________________________________________________________________\n"
     ]
    }
   ],
   "source": [
    "model.summary()"
   ]
  },
  {
   "cell_type": "code",
   "execution_count": 5,
   "metadata": {},
   "outputs": [],
   "source": [
    "model.compile(optimizer='adam', loss='sparse_categorical_crossentropy', metrics=['accuracy'])"
   ]
  },
  {
   "cell_type": "code",
   "execution_count": 6,
   "metadata": {},
   "outputs": [
    {
     "name": "stdout",
     "output_type": "stream",
     "text": [
      "Epoch 1/100\n",
      "1563/1563 [==============================] - 33s 13ms/step - loss: 2.1506 - accuracy: 0.2391 - val_loss: 2.0071 - val_accuracy: 0.2232\n",
      "Epoch 2/100\n",
      "1563/1563 [==============================] - 19s 12ms/step - loss: 1.8792 - accuracy: 0.2900 - val_loss: 1.9091 - val_accuracy: 0.2954\n",
      "Epoch 3/100\n",
      "1563/1563 [==============================] - 17s 11ms/step - loss: 1.7989 - accuracy: 0.3179 - val_loss: 1.7849 - val_accuracy: 0.3295\n",
      "Epoch 4/100\n",
      "1563/1563 [==============================] - 14s 9ms/step - loss: 1.7509 - accuracy: 0.3355 - val_loss: 1.7376 - val_accuracy: 0.3443\n",
      "Epoch 5/100\n",
      "1563/1563 [==============================] - 11s 7ms/step - loss: 1.7186 - accuracy: 0.3511 - val_loss: 1.7391 - val_accuracy: 0.3454\n",
      "Epoch 6/100\n",
      "1563/1563 [==============================] - 11s 7ms/step - loss: 1.6999 - accuracy: 0.3578 - val_loss: 1.8511 - val_accuracy: 0.3178\n",
      "Epoch 7/100\n",
      "1563/1563 [==============================] - 11s 7ms/step - loss: 1.6786 - accuracy: 0.3656 - val_loss: 1.7713 - val_accuracy: 0.3297\n",
      "Epoch 8/100\n",
      "1563/1563 [==============================] - 12s 8ms/step - loss: 1.6719 - accuracy: 0.3724 - val_loss: 1.7163 - val_accuracy: 0.3640\n",
      "Epoch 9/100\n",
      "1563/1563 [==============================] - 11s 7ms/step - loss: 1.6470 - accuracy: 0.3905 - val_loss: 1.9224 - val_accuracy: 0.3392\n",
      "Epoch 10/100\n",
      "1563/1563 [==============================] - 15s 10ms/step - loss: 1.6241 - accuracy: 0.3974 - val_loss: 1.6685 - val_accuracy: 0.3923\n",
      "Epoch 11/100\n",
      "1563/1563 [==============================] - 12s 7ms/step - loss: 1.6053 - accuracy: 0.4091 - val_loss: 1.6722 - val_accuracy: 0.3930\n",
      "Epoch 12/100\n",
      "1563/1563 [==============================] - 18s 11ms/step - loss: 1.5886 - accuracy: 0.4232 - val_loss: 1.6021 - val_accuracy: 0.4233\n",
      "Epoch 13/100\n",
      "1563/1563 [==============================] - 17s 11ms/step - loss: 1.5693 - accuracy: 0.4352 - val_loss: 1.6055 - val_accuracy: 0.4229\n",
      "Epoch 14/100\n",
      "1563/1563 [==============================] - 12s 8ms/step - loss: 1.5463 - accuracy: 0.4438 - val_loss: 1.6656 - val_accuracy: 0.3970\n",
      "Epoch 15/100\n",
      "1563/1563 [==============================] - 12s 8ms/step - loss: 1.5346 - accuracy: 0.4486 - val_loss: 1.7090 - val_accuracy: 0.3817\n",
      "Epoch 16/100\n",
      "1563/1563 [==============================] - 11s 7ms/step - loss: 1.5323 - accuracy: 0.4490 - val_loss: 1.5896 - val_accuracy: 0.4257\n",
      "Epoch 17/100\n",
      "1563/1563 [==============================] - 11s 7ms/step - loss: 1.5047 - accuracy: 0.4561 - val_loss: 1.6114 - val_accuracy: 0.4234\n",
      "Epoch 18/100\n",
      "1563/1563 [==============================] - 11s 7ms/step - loss: 1.5072 - accuracy: 0.4597 - val_loss: 1.5550 - val_accuracy: 0.4403\n",
      "Epoch 19/100\n",
      "1563/1563 [==============================] - 11s 7ms/step - loss: 1.4927 - accuracy: 0.4612 - val_loss: 1.5482 - val_accuracy: 0.4464\n",
      "Epoch 20/100\n",
      "1563/1563 [==============================] - 12s 8ms/step - loss: 1.4783 - accuracy: 0.4672 - val_loss: 1.5363 - val_accuracy: 0.4531\n",
      "Epoch 21/100\n",
      "1563/1563 [==============================] - 12s 7ms/step - loss: 1.4723 - accuracy: 0.4685 - val_loss: 1.5334 - val_accuracy: 0.4605\n",
      "Epoch 22/100\n",
      "1563/1563 [==============================] - 12s 8ms/step - loss: 1.4694 - accuracy: 0.4726 - val_loss: 1.5569 - val_accuracy: 0.4379\n",
      "Epoch 23/100\n",
      "1563/1563 [==============================] - 12s 8ms/step - loss: 1.4568 - accuracy: 0.4765 - val_loss: 1.5653 - val_accuracy: 0.4521\n",
      "Epoch 24/100\n",
      "1563/1563 [==============================] - 11s 7ms/step - loss: 1.4518 - accuracy: 0.4793 - val_loss: 1.5535 - val_accuracy: 0.4533\n",
      "Epoch 25/100\n",
      "1563/1563 [==============================] - 12s 8ms/step - loss: 1.4439 - accuracy: 0.4810 - val_loss: 1.4841 - val_accuracy: 0.4698\n",
      "Epoch 26/100\n",
      "1563/1563 [==============================] - 12s 8ms/step - loss: 1.4320 - accuracy: 0.4864 - val_loss: 1.5731 - val_accuracy: 0.4536\n",
      "Epoch 27/100\n",
      "1563/1563 [==============================] - 12s 7ms/step - loss: 1.4223 - accuracy: 0.4890 - val_loss: 1.4750 - val_accuracy: 0.4797\n",
      "Epoch 28/100\n",
      "1563/1563 [==============================] - 11s 7ms/step - loss: 1.4072 - accuracy: 0.4952 - val_loss: 1.4977 - val_accuracy: 0.4721\n",
      "Epoch 29/100\n",
      "1563/1563 [==============================] - 11s 7ms/step - loss: 1.4067 - accuracy: 0.4939 - val_loss: 1.5028 - val_accuracy: 0.4676\n",
      "Epoch 30/100\n",
      "1563/1563 [==============================] - 12s 7ms/step - loss: 1.3911 - accuracy: 0.5025 - val_loss: 1.6278 - val_accuracy: 0.4461\n",
      "Epoch 31/100\n",
      "1563/1563 [==============================] - 12s 8ms/step - loss: 1.3886 - accuracy: 0.5011 - val_loss: 1.4635 - val_accuracy: 0.4866\n",
      "Epoch 32/100\n",
      "1563/1563 [==============================] - 13s 9ms/step - loss: 1.3840 - accuracy: 0.5045 - val_loss: 1.4756 - val_accuracy: 0.4839\n",
      "Epoch 33/100\n",
      "1563/1563 [==============================] - 13s 8ms/step - loss: 1.3659 - accuracy: 0.5147 - val_loss: 1.4597 - val_accuracy: 0.4875\n",
      "Epoch 34/100\n",
      "1563/1563 [==============================] - 12s 7ms/step - loss: 1.3621 - accuracy: 0.5160 - val_loss: 1.5434 - val_accuracy: 0.4681\n",
      "Epoch 35/100\n",
      "1563/1563 [==============================] - 13s 9ms/step - loss: 1.3606 - accuracy: 0.5170 - val_loss: 1.4794 - val_accuracy: 0.4830\n",
      "Epoch 36/100\n",
      "1563/1563 [==============================] - 12s 7ms/step - loss: 1.3492 - accuracy: 0.5224 - val_loss: 1.5104 - val_accuracy: 0.4835\n",
      "Epoch 37/100\n",
      "1563/1563 [==============================] - 13s 8ms/step - loss: 1.3431 - accuracy: 0.5242 - val_loss: 1.4518 - val_accuracy: 0.5012\n",
      "Epoch 38/100\n",
      "1563/1563 [==============================] - 17s 11ms/step - loss: 1.3351 - accuracy: 0.5311 - val_loss: 1.4950 - val_accuracy: 0.4798\n",
      "Epoch 39/100\n",
      "1563/1563 [==============================] - 11s 7ms/step - loss: 1.3243 - accuracy: 0.5343 - val_loss: 1.4653 - val_accuracy: 0.4938\n",
      "Epoch 40/100\n",
      "1563/1563 [==============================] - 13s 8ms/step - loss: 1.3248 - accuracy: 0.5393 - val_loss: 1.4370 - val_accuracy: 0.5056\n",
      "Epoch 41/100\n",
      "1563/1563 [==============================] - 13s 9ms/step - loss: 1.3106 - accuracy: 0.5444 - val_loss: 1.5315 - val_accuracy: 0.4762\n",
      "Epoch 42/100\n",
      "1563/1563 [==============================] - 11s 7ms/step - loss: 1.3079 - accuracy: 0.5495 - val_loss: 1.5323 - val_accuracy: 0.4789\n",
      "Epoch 43/100\n",
      "1563/1563 [==============================] - 12s 8ms/step - loss: 1.2996 - accuracy: 0.5531 - val_loss: 1.4611 - val_accuracy: 0.4980\n",
      "Epoch 44/100\n",
      "1563/1563 [==============================] - 12s 8ms/step - loss: 1.2918 - accuracy: 0.5568 - val_loss: 1.5177 - val_accuracy: 0.4871\n",
      "Epoch 45/100\n",
      "1563/1563 [==============================] - 11s 7ms/step - loss: 1.2836 - accuracy: 0.5635 - val_loss: 1.4558 - val_accuracy: 0.5205\n",
      "Epoch 46/100\n",
      "1563/1563 [==============================] - 11s 7ms/step - loss: 1.2702 - accuracy: 0.5720 - val_loss: 1.4574 - val_accuracy: 0.5155\n",
      "Epoch 47/100\n",
      "1563/1563 [==============================] - 11s 7ms/step - loss: 1.2603 - accuracy: 0.5769 - val_loss: 1.5323 - val_accuracy: 0.5006\n",
      "Epoch 48/100\n",
      "1563/1563 [==============================] - 11s 7ms/step - loss: 1.2490 - accuracy: 0.5850 - val_loss: 1.4644 - val_accuracy: 0.5249\n",
      "Epoch 49/100\n",
      "1563/1563 [==============================] - 11s 7ms/step - loss: 1.2444 - accuracy: 0.5872 - val_loss: 1.3918 - val_accuracy: 0.5405\n",
      "Epoch 50/100\n",
      "1563/1563 [==============================] - 11s 7ms/step - loss: 1.2264 - accuracy: 0.5941 - val_loss: 1.4390 - val_accuracy: 0.5351\n",
      "Epoch 51/100\n",
      "1563/1563 [==============================] - 11s 7ms/step - loss: 1.2211 - accuracy: 0.5963 - val_loss: 1.4389 - val_accuracy: 0.5356\n",
      "Epoch 52/100\n",
      "1563/1563 [==============================] - 11s 7ms/step - loss: 1.2177 - accuracy: 0.5987 - val_loss: 1.4000 - val_accuracy: 0.5467\n",
      "Epoch 53/100\n",
      "1563/1563 [==============================] - 11s 7ms/step - loss: 1.2080 - accuracy: 0.6051 - val_loss: 1.4243 - val_accuracy: 0.5497\n",
      "Epoch 54/100\n",
      "1563/1563 [==============================] - 11s 7ms/step - loss: 1.1859 - accuracy: 0.6150 - val_loss: 1.3660 - val_accuracy: 0.5627\n",
      "Epoch 55/100\n",
      "1563/1563 [==============================] - 11s 7ms/step - loss: 1.1862 - accuracy: 0.6151 - val_loss: 1.3735 - val_accuracy: 0.5597\n",
      "Epoch 56/100\n",
      "1563/1563 [==============================] - 11s 7ms/step - loss: 1.1759 - accuracy: 0.6187 - val_loss: 1.4071 - val_accuracy: 0.5550\n",
      "Epoch 57/100\n",
      "1563/1563 [==============================] - 11s 7ms/step - loss: 1.1592 - accuracy: 0.6251 - val_loss: 1.4773 - val_accuracy: 0.5322\n",
      "Epoch 58/100\n",
      "1563/1563 [==============================] - 11s 7ms/step - loss: 1.1493 - accuracy: 0.6301 - val_loss: 1.3982 - val_accuracy: 0.5597\n",
      "Epoch 59/100\n",
      "1563/1563 [==============================] - 11s 7ms/step - loss: 1.1428 - accuracy: 0.6316 - val_loss: 1.3824 - val_accuracy: 0.5673\n",
      "Epoch 60/100\n",
      "1563/1563 [==============================] - 11s 7ms/step - loss: 1.1285 - accuracy: 0.6370 - val_loss: 1.4790 - val_accuracy: 0.5448\n",
      "Epoch 61/100\n",
      "1563/1563 [==============================] - 19s 12ms/step - loss: 1.1253 - accuracy: 0.6396 - val_loss: 1.3520 - val_accuracy: 0.5750\n",
      "Epoch 62/100\n",
      "1563/1563 [==============================] - 12s 7ms/step - loss: 1.1117 - accuracy: 0.6418 - val_loss: 1.3669 - val_accuracy: 0.5736\n",
      "Epoch 63/100\n",
      "1563/1563 [==============================] - 11s 7ms/step - loss: 1.0943 - accuracy: 0.6480 - val_loss: 1.3563 - val_accuracy: 0.5745\n",
      "Epoch 64/100\n",
      "1563/1563 [==============================] - 12s 8ms/step - loss: 1.0838 - accuracy: 0.6516 - val_loss: 1.3724 - val_accuracy: 0.5690\n",
      "Epoch 65/100\n",
      "1563/1563 [==============================] - 12s 7ms/step - loss: 1.0703 - accuracy: 0.6572 - val_loss: 1.5597 - val_accuracy: 0.5216\n",
      "Epoch 66/100\n",
      "1563/1563 [==============================] - 12s 8ms/step - loss: 1.0552 - accuracy: 0.6620 - val_loss: 1.3198 - val_accuracy: 0.5814\n",
      "Epoch 67/100\n",
      "1563/1563 [==============================] - 13s 8ms/step - loss: 1.0358 - accuracy: 0.6650 - val_loss: 1.3304 - val_accuracy: 0.5774\n",
      "Epoch 68/100\n",
      "1563/1563 [==============================] - 12s 7ms/step - loss: 1.0168 - accuracy: 0.6714 - val_loss: 1.3585 - val_accuracy: 0.5718\n",
      "Epoch 69/100\n",
      "1563/1563 [==============================] - 12s 7ms/step - loss: 0.9997 - accuracy: 0.6745 - val_loss: 1.2547 - val_accuracy: 0.6008\n",
      "Epoch 70/100\n",
      "1563/1563 [==============================] - 11s 7ms/step - loss: 0.9686 - accuracy: 0.6813 - val_loss: 1.2318 - val_accuracy: 0.6044\n",
      "Epoch 71/100\n",
      "1563/1563 [==============================] - 12s 7ms/step - loss: 0.9459 - accuracy: 0.6924 - val_loss: 1.2114 - val_accuracy: 0.6045\n",
      "Epoch 72/100\n",
      "1563/1563 [==============================] - 14s 9ms/step - loss: 0.9253 - accuracy: 0.6959 - val_loss: 1.2103 - val_accuracy: 0.6079\n",
      "Epoch 73/100\n",
      "1563/1563 [==============================] - 14s 9ms/step - loss: 0.9046 - accuracy: 0.7010 - val_loss: 1.2099 - val_accuracy: 0.6059\n",
      "Epoch 74/100\n",
      "1563/1563 [==============================] - 19s 12ms/step - loss: 0.8894 - accuracy: 0.7059 - val_loss: 1.1811 - val_accuracy: 0.6171\n",
      "Epoch 75/100\n",
      "1563/1563 [==============================] - 17s 11ms/step - loss: 0.8678 - accuracy: 0.7121 - val_loss: 1.2057 - val_accuracy: 0.6099\n",
      "Epoch 76/100\n",
      "1563/1563 [==============================] - 14s 9ms/step - loss: 0.8552 - accuracy: 0.7187 - val_loss: 1.2056 - val_accuracy: 0.6142\n",
      "Epoch 77/100\n",
      "1563/1563 [==============================] - 13s 8ms/step - loss: 0.8362 - accuracy: 0.7236 - val_loss: 1.1832 - val_accuracy: 0.6197\n",
      "Epoch 78/100\n",
      "1563/1563 [==============================] - 11s 7ms/step - loss: 0.8198 - accuracy: 0.7295 - val_loss: 1.1930 - val_accuracy: 0.6171\n",
      "Epoch 79/100\n",
      "1563/1563 [==============================] - 11s 7ms/step - loss: 0.8032 - accuracy: 0.7358 - val_loss: 1.1855 - val_accuracy: 0.6208\n",
      "Epoch 80/100\n",
      "1563/1563 [==============================] - 12s 8ms/step - loss: 0.7874 - accuracy: 0.7396 - val_loss: 1.1796 - val_accuracy: 0.6247\n",
      "Epoch 81/100\n",
      "1563/1563 [==============================] - 11s 7ms/step - loss: 0.7740 - accuracy: 0.7460 - val_loss: 1.1651 - val_accuracy: 0.6256\n",
      "Epoch 82/100\n",
      "1563/1563 [==============================] - 11s 7ms/step - loss: 0.7612 - accuracy: 0.7482 - val_loss: 1.1759 - val_accuracy: 0.6270\n",
      "Epoch 83/100\n",
      "1563/1563 [==============================] - 11s 7ms/step - loss: 0.7437 - accuracy: 0.7562 - val_loss: 1.1827 - val_accuracy: 0.6233\n",
      "Epoch 84/100\n",
      "1563/1563 [==============================] - 11s 7ms/step - loss: 0.7293 - accuracy: 0.7588 - val_loss: 1.1932 - val_accuracy: 0.6233\n",
      "Epoch 85/100\n",
      "1563/1563 [==============================] - 12s 8ms/step - loss: 0.7114 - accuracy: 0.7673 - val_loss: 1.1900 - val_accuracy: 0.6229\n",
      "Epoch 86/100\n",
      "1563/1563 [==============================] - 13s 8ms/step - loss: 0.6972 - accuracy: 0.7719 - val_loss: 1.2180 - val_accuracy: 0.6213\n",
      "Epoch 87/100\n",
      "1563/1563 [==============================] - 12s 8ms/step - loss: 0.6808 - accuracy: 0.7787 - val_loss: 1.1801 - val_accuracy: 0.6318\n",
      "Epoch 88/100\n",
      "1563/1563 [==============================] - 11s 7ms/step - loss: 0.6718 - accuracy: 0.7799 - val_loss: 1.2248 - val_accuracy: 0.6234\n",
      "Epoch 89/100\n",
      "1563/1563 [==============================] - 11s 7ms/step - loss: 0.6561 - accuracy: 0.7868 - val_loss: 1.2113 - val_accuracy: 0.6287\n",
      "Epoch 90/100\n",
      "1563/1563 [==============================] - 11s 7ms/step - loss: 0.6413 - accuracy: 0.7916 - val_loss: 1.2759 - val_accuracy: 0.6121\n",
      "Epoch 91/100\n",
      "1563/1563 [==============================] - 11s 7ms/step - loss: 0.6359 - accuracy: 0.7917 - val_loss: 1.1943 - val_accuracy: 0.6319\n",
      "Epoch 92/100\n",
      "1563/1563 [==============================] - 11s 7ms/step - loss: 0.6183 - accuracy: 0.7981 - val_loss: 1.2728 - val_accuracy: 0.6200\n",
      "Epoch 93/100\n",
      "1563/1563 [==============================] - 11s 7ms/step - loss: 0.6030 - accuracy: 0.8015 - val_loss: 1.2535 - val_accuracy: 0.6295\n",
      "Epoch 94/100\n",
      "1563/1563 [==============================] - 11s 7ms/step - loss: 0.5909 - accuracy: 0.8067 - val_loss: 1.2614 - val_accuracy: 0.6250\n",
      "Epoch 95/100\n",
      "1563/1563 [==============================] - 11s 7ms/step - loss: 0.5758 - accuracy: 0.8129 - val_loss: 1.2720 - val_accuracy: 0.6248\n",
      "Epoch 96/100\n",
      "1563/1563 [==============================] - 11s 7ms/step - loss: 0.5707 - accuracy: 0.8126 - val_loss: 1.2418 - val_accuracy: 0.6298\n",
      "Epoch 97/100\n",
      "1563/1563 [==============================] - 11s 7ms/step - loss: 0.5554 - accuracy: 0.8196 - val_loss: 1.2742 - val_accuracy: 0.6216\n",
      "Epoch 98/100\n",
      "1563/1563 [==============================] - 12s 7ms/step - loss: 0.5467 - accuracy: 0.8229 - val_loss: 1.2926 - val_accuracy: 0.6221\n",
      "Epoch 99/100\n",
      "1563/1563 [==============================] - 12s 8ms/step - loss: 0.5310 - accuracy: 0.8289 - val_loss: 1.2714 - val_accuracy: 0.6300\n",
      "Epoch 100/100\n",
      "1563/1563 [==============================] - 12s 7ms/step - loss: 0.5160 - accuracy: 0.8328 - val_loss: 1.2921 - val_accuracy: 0.6299\n"
     ]
    }
   ],
   "source": [
    "history = model.fit(x_train, y_train, epochs=100, validation_data=(x_test, y_test))"
   ]
  },
  {
   "cell_type": "code",
   "execution_count": 7,
   "metadata": {},
   "outputs": [],
   "source": [
    "import matplotlib.pyplot as plt"
   ]
  },
  {
   "cell_type": "code",
   "execution_count": 8,
   "metadata": {},
   "outputs": [
    {
     "data": {
      "image/png": "[encoded data removed]",
      "text/plain": [
       "<Figure size 432x288 with 1 Axes>"
      ]
     },
     "metadata": {
      "needs_background": "light"
     },
     "output_type": "display_data"
    }
   ],
   "source": [
    "# plot loss\n",
    "plt.plot(history.history['loss'], label='loss')\n",
    "plt.plot(history.history['val_loss'], label='val_loss')\n",
    "plt.legend()\n",
    "plt.show()"
   ]
  },
  {
   "cell_type": "code",
   "execution_count": 9,
   "metadata": {},
   "outputs": [
    {
     "data": {
      "image/png": "[encoded data removed]",
      "text/plain": [
       "<Figure size 432x288 with 1 Axes>"
      ]
     },
     "metadata": {
      "needs_background": "light"
     },
     "output_type": "display_data"
    }
   ],
   "source": [
    "# plot accuracy\n",
    "plt.plot(history.history['accuracy'], label='accuracy')\n",
    "plt.plot(history.history['val_accuracy'], label='val_accuracy')\n",
    "plt.legend()\n",
    "plt.show()"
   ]
  }
 ],
 "metadata": {
  "kernelspec": {
   "display_name": "Python 3.9.12 ('base')",
   "language": "python",
   "name": "python3"
  },
  "language_info": {
   "codemirror_mode": {
    "name": "ipython",
    "version": 3
   },
   "file_extension": ".py",
   "mimetype": "text/x-python",
   "name": "python",
   "nbconvert_exporter": "python",
   "pygments_lexer": "ipython3",
   "version": "3.9.12"
  },
  "orig_nbformat": 4,
  "vscode": {
   "interpreter": {
    "hash": "ff4f85d6e04298634172ac5d8264e7e9b556b95639fe52ebb9425c4d4cba0c9c"
   }
  }
 },
 "nbformat": 4,
 "nbformat_minor": 2
}
